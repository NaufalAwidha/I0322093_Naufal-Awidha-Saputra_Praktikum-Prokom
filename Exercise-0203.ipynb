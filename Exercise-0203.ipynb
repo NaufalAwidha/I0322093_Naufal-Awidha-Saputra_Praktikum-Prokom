{
 "cells": [
  {
   "cell_type": "code",
   "execution_count": null,
   "metadata": {},
   "outputs": [],
   "source": [
    "print(input(\"Nama: \"))\n",
    "print(input(\"NIM: \"))\n",
    "print(input(\"Kelas: \"))"
   ]
  },
  {
   "attachments": {},
   "cell_type": "markdown",
   "metadata": {},
   "source": [
    "## 1."
   ]
  },
  {
   "attachments": {},
   "cell_type": "markdown",
   "metadata": {},
   "source": [
    "buatlah program sederhana untuk:\n",
    "* **A** mencari massa jika diketahui nilai energi potensial, percepatan gravitasi, dan ketinggian benda! beserta rumus nya!\n",
    "* **B** mencari gaya apung jika diketahui massa jenis, tinggi, panjang, dan lebar benda serta percepatan gravitasi dan contohnya! beserta rumus nya!\n",
    "* **C** Tulis program Python untuk menghitung luas dari segi lima sama sisi!\n",
    "\n",
    "> *note* : rumus, contoh, dan nilai dari tiap variabel ditentukan oleh kalian sendiri dan gunakan satuan baku (SI) untuk menghitung nilai dari tiap variabel"
   ]
  },
  {
   "cell_type": "code",
   "execution_count": null,
   "metadata": {},
   "outputs": [],
   "source": [
    "#Nilai Energi Potensial\n",
    "\n",
    "EnergiPotensial = float(input(\"Masukkan Energi Potensial=\"))\n",
    "PercepatanGravitasi = float(input(\"Masukkan Gravitasi=\"))\n",
    "KetinggianBenda = float(input(\"Masukkan Ketinggian Benda\"))\n",
    "MassaBenda = (EnergiPotensial/(PercepatanGravitasi*KetinggianBenda))\n",
    "\n",
    "print(f\"Nilai Energi Potensial =\", EnergiPotensial, \"Joule\")\n",
    "print(f\"Nilai Gravitasi        =\", PercepatanGravitasi, \"m/s^2\")\n",
    "print(f\"Nilai Ketinggian Benda =\", KetinggianBenda, \"m\")\n",
    "print(f\"Massa Benda            =\", MassaBenda, \"kg\")"
   ]
  },
  {
   "cell_type": "code",
   "execution_count": 3,
   "metadata": {},
   "outputs": [
    {
     "name": "stdout",
     "output_type": "stream",
     "text": [
      "Nilai Massa Jenis Zat Cair = 3.0 kg/m^3\n",
      "Nilai Percepatan Gravitasi = 3.0 m/s^2\n",
      "Panjang Benda              = 3.0 m\n",
      "Lebar Benda                = 3.0 m\n",
      "Tinggi Benda               = 3.0 m\n",
      "Nilai Volume Benda         = 27.0 m^3\n",
      "Nilai Gaya Apung           = 243.0 N\n"
     ]
    }
   ],
   "source": [
    "# Gaya Apung\n",
    "\n",
    "MassaJenisZatCair = float(input(\"Masukkan MAssa Jenis Zat Cair=\"))\n",
    "PercepatanGravitasi = float(input(\"Masukkan Percepatan Gravitasi=\"))\n",
    "PanjangBenda = float(input(\"Masukkan Panjang Benda\"))\n",
    "LebarBenda = float(input(\"Masukkan Lebar Benda\"))\n",
    "TinggiBenda = float(input(\"Masukkan Tinggi Benda=\"))\n",
    "VolumeBenda = float(PanjangBenda*LebarBenda*TinggiBenda)\n",
    "GayaApung = float(MassaJenisZatCair*VolumeBenda*PercepatanGravitasi)\n",
    "\n",
    "print(f\"Nilai Massa Jenis Zat Cair =\", MassaJenisZatCair, \"kg/m^3\")\n",
    "print(f\"Nilai Percepatan Gravitasi =\", PercepatanGravitasi, \"m/s^2\")\n",
    "print(f\"Panjang Benda              =\", PanjangBenda, \"m\")\n",
    "print(f\"Lebar Benda                =\", LebarBenda, \"m\")\n",
    "print(f\"Tinggi Benda               =\", TinggiBenda, \"m\")\n",
    "print(f\"Nilai Volume Benda         =\", VolumeBenda, \"m^3\")\n",
    "print(f\"Nilai Gaya Apung           =\", GayaApung, \"N\")\n"
   ]
  },
  {
   "cell_type": "code",
   "execution_count": 2,
   "metadata": {},
   "outputs": [
    {
     "name": "stdout",
     "output_type": "stream",
     "text": [
      "Panjang Sisi Segilima sama sisi = 2.0 m\n",
      "Luas Segilima sama sisi         = 6.881909867626464 m\n"
     ]
    }
   ],
   "source": [
    "# Luas Segilima Sama Sisi\n",
    "\n",
    "PanjangSisiSegilima = float(input(\"Masukkan Panjang Sisi Segilima=\"))\n",
    "LuasSegilimaSamasisi = ((5*PanjangSisiSegilima**2)/2.90617)\n",
    "\n",
    "print(f\"Panjang Sisi Segilima sama sisi =\", PanjangSisiSegilima,\"m\")\n",
    "print(f\"Luas Segilima sama sisi         =\", LuasSegilimaSamasisi,\"m\")"
   ]
  },
  {
   "attachments": {},
   "cell_type": "markdown",
   "metadata": {},
   "source": [
    "## 2."
   ]
  },
  {
   "attachments": {},
   "cell_type": "markdown",
   "metadata": {},
   "source": [
    "Taman bermain ANCOL memiliki berbagai wahana, salah satunya adalah bianglala. Harga tiket yang dijual berbeda tergantung dengan kategori nya. Harga tiket bagi orang dewasa atau yang berumur lebih dari 17 tahun adalah Rp 110.000 , harga tiket untuk anak-anak usia 6-16 tahun adalah Rp. 75.000 , sedangkan untuk usia dibawahnya tidak dikenakan biaya. Pada wahana bianglala sedang ada \"Promo RAMADHAN\" sebesar 20% bagi pembelian tiket lebih dari 2 pcs.\n",
    "\n",
    "Keluarga Anya Forger ingin menaiki wahana bianglala tersebut, Anya (usia 18 tahun) pergi bersama ayah dan ibunya beserta dua adiknya, Harry (usia 8 tahun) dan Taylor (usia 4 tahun). \n",
    "\n",
    "> Buatlah program sederhana untuk menghitung harga total dari pembelian tiket  oleh keluarga Anya dan harga tiket setelah mendapatkan diskon"
   ]
  },
  {
   "cell_type": "code",
   "execution_count": 7,
   "metadata": {},
   "outputs": [
    {
     "name": "stdout",
     "output_type": "stream",
     "text": [
      "Keluarga Anya yang naik wahana bianglala adalah Anya, Ayah, Ibu, Harry, Taylor\n",
      "Total harga dari pembelian tiket sebelum mendapat diskon adalah Rp. 405000\n",
      "Total harga setelah mendapat diskon Ramadhan menjadi Rp. 324000.0\n"
     ]
    }
   ],
   "source": [
    "#Total Harga Pembelian Tiket Keluarga Anya\n",
    "\n",
    "KeluargaAnyaYangIkutNaikWahana = input(\"Siapa saja yang naik wahana bianglala\")\n",
    "Harga_Tiket_17_Tahun_Keatas = 110000\n",
    "Harga_Tiket_6_Sampai_16_Tahun = 75000\n",
    "Harga_Tiket_DIbawah_Umur = 0\n",
    "Jumlah_Keluarga_Anya_17Tahun_Keatas = 3\n",
    "Jumlah_Keluarga_Anya_6_Sampai_16_Tahun = 1\n",
    "Jumlah_Keluarga_Anya_Dibawah_Umur = 1\n",
    "\n",
    "Harga_Sebelum_Diskon = (Jumlah_Keluarga_Anya_17Tahun_Keatas*Harga_Tiket_17_Tahun_Keatas)+(Jumlah_Keluarga_Anya_6_Sampai_16_Tahun*Harga_Tiket_6_Sampai_16_Tahun)+(Jumlah_Keluarga_Anya_Dibawah_Umur*Harga_Tiket_DIbawah_Umur)\n",
    "\n",
    "#Pehitungan Setelah Mendapat Diskon 20% setiap 2 pcs tiket\n",
    "\n",
    "Harga_Setelah_Diskon = (2*Harga_Tiket_17_Tahun_Keatas*4/5)+((Harga_Tiket_17_Tahun_Keatas+Harga_Tiket_6_Sampai_16_Tahun)*4/5)\n",
    "\n",
    "print(f\"Keluarga Anya yang naik wahana bianglala adalah\", KeluargaAnyaYangIkutNaikWahana)\n",
    "print(f\"Total harga dari pembelian tiket sebelum mendapat diskon adalah Rp.\", Harga_Sebelum_Diskon)\n",
    "print(f\"Total harga setelah mendapat diskon Ramadhan menjadi Rp.\", Harga_Setelah_Diskon)"
   ]
  },
  {
   "attachments": {},
   "cell_type": "markdown",
   "metadata": {},
   "source": [
    "## 3. "
   ]
  },
  {
   "attachments": {},
   "cell_type": "markdown",
   "metadata": {},
   "source": [
    "diberikan list aslab sebagai berikut:\n",
    "```python\n",
    "list_aslab = [\n",
    "    {\"nama\": \"Berlian Safri Prakoso\", \"nim\": \"I0320017\", \"kontak\": \"0858XXXXXXXX\"},\n",
    "    {\"nama\": \"Halidya Siti Hanifah\", \"nim\": \"I0320044\", \"kontak\": \"0878XXXXXXXX\"},\n",
    "    {\"nama\": \"Nurki Putra Mahardika\", \"nim\": \"I0320076\", \"kontak\": \"0877XXXXXXXX\"},\n",
    "    {\"nama\": \"Aji Manarul Aziz\", \"nim\": \"I0320119\", \"kontak\": \"0812XXXXXXXX\"},\n",
    "    {\"nama\": \"Alica Ayu Fitriani\", \"nim\": \"I0320121\", \"kontak\": \"0896XXXXXXXX\"},\n",
    "    {\"nama\": \"Dendy Halim Kusuma\", \"nim\": \"I0320125\", \"kontak\": \"0822XXXXXXXX\"}\n",
    "]\n",
    "```\n",
    "* **A** Tuliskan kode untuk mengakses informasi tentang \"nama\" dari semua aslab mulai dari index 1 sampai 5\n",
    "* **B** Tambahkan informasi berikut pada data aslab dan tampilkan hasilnya:\n",
    "```python\n",
    "    surel = [\"berlian@student.uns.ac.id\",\n",
    "          \"halidya@student.uns.ac.id\",\n",
    "          \"nurki@student.uns.ac.id\",\n",
    "          \"manarul@student.uns.ac.id\",\n",
    "          \"alica@student.uns.ac.id\",\n",
    "          \"dendy@student.uns.ac.id\"]\n",
    "```\n",
    "* **C** Hapus nilai pada kunci \"kontak\" pada list aslab dan tampilkan hasilnya\n",
    "> *note: kalian hanya boleh menggunakan key-value pair yang disebutkan di dalam teks, tanpa menggunakan informasi tambahan yang diambil pada list yang ada*"
   ]
  },
  {
   "cell_type": "code",
   "execution_count": 4,
   "metadata": {},
   "outputs": [
    {
     "name": "stdout",
     "output_type": "stream",
     "text": [
      "Halidya Siti Hanifah\n",
      "Nurki Putra Mahardika\n",
      "Aji Manarul Aziz\n",
      "Alica Ayu Fitriani\n",
      "Dendy Halim Kusuma\n",
      "\n",
      "{'nama': 'Berlian Safri Prakoso', 'nim': 'I0320017', 'kontak': '0858XXXXXXXX', 'surel': 'berlian@student.uns.ac.id'}\n",
      "{'nama': 'Halidya Siti Hanifah', 'nim': 'I0320044', 'kontak': '0878XXXXXXXX', 'surel': 'halidya@student.uns.ac.id'}\n",
      "{'nama': 'Nurki Putra Mahardika', 'nim': 'I0320076', 'kontak': '0877XXXXXXXX', 'surel': 'nurki@student.uns.ac.id'}\n",
      "{'nama': 'Aji Manarul Aziz', 'nim': 'I0320119', 'kontak': '0812XXXXXXXX', 'surel': 'manarul@student.uns.ac.id'}\n",
      "{'nama': 'Alica Ayu Fitriani', 'nim': 'I0320121', 'kontak': '0896XXXXXXXX', 'surel': 'alica@student.uns.ac.id'}\n",
      "{'nama': 'Dendy Halim Kusuma', 'nim': 'I0320125', 'kontak': '0822XXXXXXXX', 'surel': 'dendy@student.uns.ac.id'}\n",
      "\n",
      "{'nama': 'Berlian Safri Prakoso', 'nim': 'I0320017', 'surel': 'berlian@student.uns.ac.id'}\n",
      "{'nama': 'Halidya Siti Hanifah', 'nim': 'I0320044', 'surel': 'halidya@student.uns.ac.id'}\n",
      "{'nama': 'Nurki Putra Mahardika', 'nim': 'I0320076', 'surel': 'nurki@student.uns.ac.id'}\n",
      "{'nama': 'Aji Manarul Aziz', 'nim': 'I0320119', 'surel': 'manarul@student.uns.ac.id'}\n",
      "{'nama': 'Alica Ayu Fitriani', 'nim': 'I0320121', 'surel': 'alica@student.uns.ac.id'}\n",
      "{'nama': 'Dendy Halim Kusuma', 'nim': 'I0320125', 'surel': 'dendy@student.uns.ac.id'}\n"
     ]
    }
   ],
   "source": [
    "# A\n",
    "list_aslab = [\n",
    "    {\"nama\": \"Berlian Safri Prakoso\", \"nim\": \"I0320017\", \"kontak\": \"0858XXXXXXXX\"},\n",
    "    {\"nama\": \"Halidya Siti Hanifah\", \"nim\": \"I0320044\", \"kontak\": \"0878XXXXXXXX\"},\n",
    "    {\"nama\": \"Nurki Putra Mahardika\", \"nim\": \"I0320076\", \"kontak\": \"0877XXXXXXXX\"},\n",
    "    {\"nama\": \"Aji Manarul Aziz\", \"nim\": \"I0320119\", \"kontak\": \"0812XXXXXXXX\"},\n",
    "    {\"nama\": \"Alica Ayu Fitriani\", \"nim\": \"I0320121\", \"kontak\": \"0896XXXXXXXX\"},\n",
    "    {\"nama\": \"Dendy Halim Kusuma\", \"nim\": \"I0320125\", \"kontak\": \"0822XXXXXXXX\"}\n",
    "]\n",
    "\n",
    "for i in range (1,6):\n",
    "    print(list_aslab[i][\"nama\"])\n",
    "print()\n",
    "\n",
    "# B\n",
    "surel = [\"berlian@student.uns.ac.id\",\n",
    "          \"halidya@student.uns.ac.id\",\n",
    "          \"nurki@student.uns.ac.id\",\n",
    "          \"manarul@student.uns.ac.id\",\n",
    "          \"alica@student.uns.ac.id\",\n",
    "          \"dendy@student.uns.ac.id\"]\n",
    "\n",
    "for i in range(len(list_aslab)):\n",
    "    list_aslab[i][\"surel\"] = surel[i]\n",
    "\n",
    "for aslab in list_aslab:\n",
    "    print(aslab)\n",
    "print()\n",
    "\n",
    "# C\n",
    "for aslab in list_aslab:\n",
    "    del aslab[\"kontak\"]\n",
    "    print(aslab)"
   ]
  }
 ],
 "metadata": {
  "kernelspec": {
   "display_name": "Python 3",
   "language": "python",
   "name": "python3"
  },
  "language_info": {
   "codemirror_mode": {
    "name": "ipython",
    "version": 3
   },
   "file_extension": ".py",
   "mimetype": "text/x-python",
   "name": "python",
   "nbconvert_exporter": "python",
   "pygments_lexer": "ipython3",
   "version": "3.10.7"
  },
  "orig_nbformat": 4,
  "vscode": {
   "interpreter": {
    "hash": "5addf786bcd861d1ce5006f23111f8cbb206731e5b61b0a5632ba9e0252558a8"
   }
  }
 },
 "nbformat": 4,
 "nbformat_minor": 2
}

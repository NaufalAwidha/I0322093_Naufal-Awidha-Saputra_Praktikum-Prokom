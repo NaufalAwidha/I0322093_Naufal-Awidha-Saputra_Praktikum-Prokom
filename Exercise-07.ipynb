{
 "cells": [
  {
   "cell_type": "code",
   "execution_count": 4,
   "metadata": {},
   "outputs": [
    {
     "name": "stdout",
     "output_type": "stream",
     "text": [
      "[[1, 2], [3, 2]]\n"
     ]
    },
    {
     "data": {
      "text/plain": [
       "[[1, 2]]"
      ]
     },
     "execution_count": 4,
     "metadata": {},
     "output_type": "execute_result"
    }
   ],
   "source": [
    "#Buatlah sebuah fungsi untuk membuat matrix berdasarkan input dari user\n",
    "import numpy as np \n",
    "\n",
    "    #Tulis kode kamu disini\n",
    "def create_matriks(baris, kolom):\n",
    "    global matriks\n",
    "    matriks = [[0 for j in range(kolom)]for i in range(baris)]\n",
    "    for i in range(baris):\n",
    "        for j in range(kolom):\n",
    "            matriks[i][j] = int(input(f\"Masukkan angka untuk [{i+1}][{j+1}] : \"))\n",
    "    return matriks\n",
    "\n",
    "print(create_matriks(baris=int(input('Masukkan Jumlah Baris:\\t')),\n",
    "      kolom=int(input('Masukkan Jumlah Kolom:\\t'))))\n",
    "\n",
    "create_matriks(baris,kolom)"
   ]
  },
  {
   "cell_type": "code",
   "execution_count": 5,
   "metadata": {},
   "outputs": [
    {
     "name": "stdout",
     "output_type": "stream",
     "text": [
      "[[1, 2], [3, 2]]\n"
     ]
    },
    {
     "data": {
      "text/plain": [
       "-4"
      ]
     },
     "execution_count": 5,
     "metadata": {},
     "output_type": "execute_result"
    }
   ],
   "source": [
    "#Buatlah sebuah fungsi untuk mencari determinan matrix berdasarkan input matrix dari user\n",
    "\n",
    "baris = int(input('Masukkan Jumlah Baris:\\t'))\n",
    "kolom = int(input('Masukkan Jumlah Kolom:\\t'))\n",
    "create_matriks(baris, kolom)\n",
    "\n",
    "def determinant(matriks):\n",
    "    n = len(matriks)\n",
    "    if n == 1:\n",
    "        return matriks[0][0]\n",
    "    else:\n",
    "        det = 0\n",
    "        for j in range(n):\n",
    "            temp = [row[:j]+row[j+1:] for row in matriks[1:]]\n",
    "            det += (-1)**j * matrix[0][j] * determinant(temp)\n",
    "    return det\n",
    "print(matriks)\n",
    "determinant(matriks)"
   ]
  },
  {
   "cell_type": "code",
   "execution_count": 8,
   "metadata": {},
   "outputs": [
    {
     "name": "stdout",
     "output_type": "stream",
     "text": [
      "matriks 1 = [[1, 2], [3, 2]]\n",
      "matriks 2 = [[2, 3], [3, 2]]\n",
      "[8, 7]\n",
      "[12, 13]\n"
     ]
    }
   ],
   "source": [
    "#Buatlah fungsi untuk mengakalikan dua buah matrix berdasarkan input user menggunakan nested loop\n",
    "\n",
    "def create_matriks1(baris1, kolom1):\n",
    "    global matriks1\n",
    "    matriks1 = [[0 for j in range(kolom1)]for i in range(baris1)]\n",
    "    for i in range(baris1):\n",
    "        for j in range(kolom1):\n",
    "            matriks1[i][j] = int(input(f\"Masukkan angka untuk [{i+1}][{j+1}] : \"))\n",
    "    return matriks1\n",
    " \n",
    "baris1 = int(input('Masukkan Jumlah Baris M1:\\t'))\n",
    "kolom1 = int(input('Masukkan Jumlah Kolom M1:\\t'))\n",
    "create_matriks1(baris1, kolom1)\n",
    "\n",
    "def create_matriks2(baris2, kolom2):\n",
    "    global matriks2\n",
    "    matriks2 = [[0 for j in range(kolom2)]for i in range(baris2)]\n",
    "    for i in range(baris2):\n",
    "        for j in range(kolom2):\n",
    "            matriks2[i][j] = int(input(f\"Masukkan angka untuk [{i+1}][{j+1}] : \"))\n",
    "    return matriks2\n",
    "\n",
    "\n",
    "baris2 = int(input('Masukkan Jumlah Baris M2:\\t'))\n",
    "kolom2 = int(input('Masukkan Jumlah Kolom M2:\\t'))\n",
    "create_matriks2(baris2, kolom2)\n",
    "\n",
    "def multiply_matriks(matriks1, matriks2):\n",
    "    m = len(matriks1)\n",
    "    n = len(matriks2[0])\n",
    "    p = len(matriks2)\n",
    "    \n",
    "    result = [[0 for j in range(n)] for i in range(m)]\n",
    "    for i in range(m):\n",
    "        for j in range(n):\n",
    "            for k in range(p):\n",
    "                result[i][j] += matriks1[i][k] * matriks2[k][j]\n",
    "    \n",
    "    for r in result:\n",
    "        print(r)\n",
    "\n",
    "print('matriks 1 =',matriks1)\n",
    "print('matriks 2 =',matriks2)\n",
    "multiply_matriks(matriks1, matriks2)"
   ]
  }
 ],
 "metadata": {
  "kernelspec": {
   "display_name": "Python 3",
   "language": "python",
   "name": "python3"
  },
  "language_info": {
   "codemirror_mode": {
    "name": "ipython",
    "version": 3
   },
   "file_extension": ".py",
   "mimetype": "text/x-python",
   "name": "python",
   "nbconvert_exporter": "python",
   "pygments_lexer": "ipython3",
   "version": "3.10.7"
  },
  "orig_nbformat": 4
 },
 "nbformat": 4,
 "nbformat_minor": 2
}

{
 "cells": [
  {
   "cell_type": "code",
   "execution_count": 1,
   "metadata": {},
   "outputs": [
    {
     "name": "stdout",
     "output_type": "stream",
     "text": [
      "Naufal Awidha S\n",
      "I0322983\n",
      "C\n"
     ]
    }
   ],
   "source": [
    "print(input(\"Nama: \"))\n",
    "print(input(\"NIM: \"))\n",
    "print(input(\"Kelas: \"))"
   ]
  },
  {
   "attachments": {},
   "cell_type": "markdown",
   "metadata": {},
   "source": [
    "## 1."
   ]
  },
  {
   "attachments": {},
   "cell_type": "markdown",
   "metadata": {},
   "source": [
    "Buatlah program yang menampilkan tarif pajak yang harus dibayarkan oleh user dengan input yaitu nama user dan pendapatan dari user.<br>\n",
    "Dengan ketentuan sebagai berikut:\n",
    "* Jika pendapatan kurang dari atau sama dengan 10 juta, maka tarif pajak adalah 2,5%\n",
    "* Jika pendapatan kurang dari atau sama dengan 20 juta, maka tarif pajak adalah 5%\n",
    "* Jika pendapatan kurang dari atau sama dengan 50 juta, maka tarif pajak adalah 10%.\n",
    "* Jika pendapatan lebih dari 50 juta, maka tarif pajak adalah 12,5%.\n",
    "> *note: Kerjakan soal ini dengan percabangan*"
   ]
  },
  {
   "cell_type": "code",
   "execution_count": 8,
   "metadata": {},
   "outputs": [
    {
     "name": "stdout",
     "output_type": "stream",
     "text": [
      "Pendapatan kurang dari atau 10 jt dikenai pajak 2,5%\n",
      "Pendapatan kurang dari atau 20 jt dikenai pajak 5%\n",
      "Pendapatan kurang dari atau 50 jt dikenai pajak 10%\n",
      "Pendapatan lebih dari 50 jt dikenai pajak 12,5%\n",
      "=================================================\n",
      "Tarif pajak yang harus dibayarkan atas nama baba adalah 43750000.875\n"
     ]
    }
   ],
   "source": [
    "# Kerjakan soal no 1 di sini\n",
    "nama = input(\"masukkan nama =\")\n",
    "pendapatan = int(input(\"jumlah pendapatan =\"))\n",
    "\n",
    "print(\"Pendapatan kurang dari atau 10 jt dikenai pajak 2,5%\")\n",
    "print(\"Pendapatan kurang dari atau 20 jt dikenai pajak 5%\")\n",
    "print(\"Pendapatan kurang dari atau 50 jt dikenai pajak 10%\")\n",
    "print(\"Pendapatan lebih dari 50 jt dikenai pajak 12,5%\")\n",
    "print(\"=================================================\")\n",
    "\n",
    "if pendapatan <=10000000:\n",
    "    biaya = pendapatan*97.5/100\n",
    "    print(f\"Tarif pajak yang harus dibayarkan atas nama\", nama, \"adalah\", biaya)\n",
    "elif pendapatan <=20000000:\n",
    "    biaya = pendapatan*95/100\n",
    "    print(f\"Tarif pajak yang harus dibayarkan atas nama\", nama, \"adalah\", biaya)\n",
    "elif pendapatan <=50000000:\n",
    "    biaya = pendapatan*90/100\n",
    "    print(f\"Tarif pajak yang harus dibayarkan atas nama\", nama, \"adalah\", biaya)\n",
    "else :\n",
    "    biaya = pendapatan*87.5/100\n",
    "    print(f\"Tarif pajak yang harus dibayarkan atas nama\", nama, \"adalah\", biaya)\n"
   ]
  },
  {
   "attachments": {},
   "cell_type": "markdown",
   "metadata": {},
   "source": [
    "## 2."
   ]
  },
  {
   "attachments": {},
   "cell_type": "markdown",
   "metadata": {},
   "source": [
    "Buatlah program yang menampilkan akan melakukan validasi apakah mahasiswa tersebut berasal dari TI UNS berdasarkan NIM yang diinput oleh user:\n",
    "<br>Dengan ketentuan sebagai berikut:\n",
    "* NIM mahasiswa TI harus dimulai dengan \"I03\" dengan total panjang 8 karakter (I0320078 adalah contoh NIM mahasiswa TI UNS)\n",
    "* Program akan menampilkan pesan \"NIM mahasiswa TI UNS\" jika NIM yang dimasukkan sesuai dengan format yang dijelaskan di atas, dan akan menampilkan pesan \"NIM Anda tidak valid\" jika tidak sesuai.\n",
    "> *note: Kerjakan soal ini dengan percabangan*"
   ]
  },
  {
   "cell_type": "code",
   "execution_count": 2,
   "metadata": {},
   "outputs": [
    {
     "name": "stdout",
     "output_type": "stream",
     "text": [
      "NIM mahasiswa TI UNS\n"
     ]
    }
   ],
   "source": [
    "# Kerjakan soal no 2 di sini\n",
    "NIM = (input(\"Masukkan NIM\"))\n",
    "\n",
    "if NIM.startswith(\"I03\") and len(NIM) == 8:\n",
    "    print(\"NIM mahasiswa TI UNS\")\n",
    "else :\n",
    "    print(\"NIM Anda tidak valid\")\n",
    "\n"
   ]
  }
 ],
 "metadata": {
  "kernelspec": {
   "display_name": "Python 3",
   "language": "python",
   "name": "python3"
  },
  "language_info": {
   "codemirror_mode": {
    "name": "ipython",
    "version": 3
   },
   "file_extension": ".py",
   "mimetype": "text/x-python",
   "name": "python",
   "nbconvert_exporter": "python",
   "pygments_lexer": "ipython3",
   "version": "3.10.7"
  },
  "orig_nbformat": 4
 },
 "nbformat": 4,
 "nbformat_minor": 2
}
